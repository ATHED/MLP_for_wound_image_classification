{
 "cells": [
  {
   "cell_type": "markdown",
   "metadata": {},
   "source": [
    "Load packages"
   ]
  },
  {
   "cell_type": "code",
   "execution_count": null,
   "metadata": {
    "scrolled": true
   },
   "outputs": [],
   "source": [
    "#load necessary packages\n",
    "import os\n",
    "from PIL import Image\n",
    "import numpy as np\n",
    "import shutil"
   ]
  },
  {
   "cell_type": "code",
   "execution_count": null,
   "metadata": {},
   "outputs": [],
   "source": [
    "#Directory containing images before grouping into sub folders\n",
    "#input_dir = \"/media/qiwei/165A4AA95A4A8609/Python_playground/smart_bandage/ULCER_SET/\"\n",
    "\n",
    "#directories = os.listdir(input_dir)\n",
    "#Now remove the file extensions\n",
    "#i = 0\n",
    "\n",
    "#for thisItem in directories:\n",
    "#     directories[i] = os.path.splitext(thisItem)[0]\n",
    "#     i=i+1\n",
    "\n",
    "#print out filenames without extension\n",
    "#print(directories)"
   ]
  },
  {
   "cell_type": "code",
   "execution_count": null,
   "metadata": {},
   "outputs": [],
   "source": [
    "import pandas as pd\n",
    "file_list = pd.read_csv('/media/qiwei/165A4AA95A4A8609/Python_playground/smart_bandage/ULCER_SET_CLASSES', header = None)\n",
    "print(file_list)"
   ]
  },
  {
   "cell_type": "code",
   "execution_count": null,
   "metadata": {},
   "outputs": [],
   "source": [
    "#record and print out the filename list that belong to group 0,1,2,3\n",
    "file_list_group0 = file_list.loc[file_list[1] == 0, 0]\n",
    "file_list_group1 = file_list.loc[file_list[1] == 1, 0]\n",
    "file_list_group2 = file_list.loc[file_list[1] == 2, 0]\n",
    "file_list_group3 = file_list.loc[file_list[1] == 3, 0]\n",
    "#print(file_list_group1)"
   ]
  },
  {
   "cell_type": "code",
   "execution_count": null,
   "metadata": {},
   "outputs": [],
   "source": [
    "#example why need to add . to every item in the list\n",
    "#s = 'IMG_6537_sppx12.png'\n",
    "#print(s.startswith('IMG_6537_sppx1'))\n",
    "#print(s.startswith('IMG_6537_sppx1.'))\n",
    "file_list_group0_d = [item + \".\" for item in file_list_group0]\n",
    "file_list_group1_d = [item + \".\" for item in file_list_group1]\n",
    "file_list_group2_d = [item + \".\" for item in file_list_group2]\n",
    "file_list_group3_d = [item + \".\" for item in file_list_group3]\n",
    "print(file_list_group3_d)"
   ]
  },
  {
   "cell_type": "code",
   "execution_count": null,
   "metadata": {},
   "outputs": [],
   "source": [
    "#grouping and check if matching\n",
    "source = \"/media/qiwei/165A4AA95A4A8609/Python_playground/smart_bandage/ULCER_SET\"\n",
    "dest_g0 = \"/media/qiwei/165A4AA95A4A8609/Python_playground/smart_bandage/ULCER_SET_grouped/g0\"\n",
    "dest_g1 = \"/media/qiwei/165A4AA95A4A8609/Python_playground/smart_bandage/ULCER_SET_grouped/g1\"\n",
    "dest_g2 = \"/media/qiwei/165A4AA95A4A8609/Python_playground/smart_bandage/ULCER_SET_grouped/g2\"\n",
    "dest_g3 = \"/media/qiwei/165A4AA95A4A8609/Python_playground/smart_bandage/ULCER_SET_grouped/g3\"\n",
    "\n",
    "directories = os.listdir(source)\n",
    "for f in directories:\n",
    "    if (f.startswith(tuple(file_list_group0_d))):\n",
    "        shutil.copy2(os.path.join(source,f), dest_g0)\n",
    "    elif (f.startswith(tuple(file_list_group1_d))):\n",
    "        shutil.copy2(os.path.join(source,f), dest_g1)\n",
    "    elif (f.startswith(tuple(file_list_group2_d))):\n",
    "        shutil.copy2(os.path.join(source,f), dest_g2)\n",
    "    elif (f.startswith(tuple(file_list_group3_d))):\n",
    "        shutil.copy2(os.path.join(source,f), dest_g3)"
   ]
  },
  {
   "cell_type": "code",
   "execution_count": null,
   "metadata": {},
   "outputs": [],
   "source": [
    "#Directory containing images you wish to convert\n",
    "input_dir = \"/media/qiwei/165A4AA95A4A8609/Python_playground/smart_bandage/ULCER_SET_grouped\"\n",
    "directories = os.listdir(input_dir)\n",
    "print(directories)"
   ]
  },
  {
   "cell_type": "code",
   "execution_count": null,
   "metadata": {},
   "outputs": [],
   "source": [
    "index = 0\n",
    "index2 = 0\n",
    "\n",
    "for folder in directories:\n",
    "\t#Ignoring .DS_Store dir\n",
    "\tif folder == '.DS_Store':\n",
    "\t\tcontinue\n",
    "\n",
    "\telse:\n",
    "\t\tprint(\"The currently using folder is: \", folder)\n",
    "\n",
    "\t\tfolder2 = os.listdir(input_dir + '/' + folder)\n",
    "\t\tindex += 1\n",
    "\n",
    "\t\tfor image in folder2:\n",
    "\t\t\tif image == \".DS_Store\":\n",
    "\t\t\t\tpass\n",
    "\n",
    "\t\t\telse:\n",
    "\t\t\t\tindex2 += 1\n",
    "\n",
    "\t\t\t\tim = Image.open(input_dir+\"/\"+folder+\"/\"+image) #Opening image\n",
    "\t\t\t\tresized_im = im.resize((70,70), resample = Image.NEAREST ) # resized image of size 70x70, because origin images were just missing 1 or 2 pixels on edge using nearset neighbor method                \n",
    "\t\t\t\tim = (np.array(resized_im)) #Converting to numpy array\n",
    "\n",
    "\n",
    "\t\t\t\ttry:\n",
    "\t\t\t\t\tr = im[:,:,0] #Slicing to get R data\n",
    "\t\t\t\t\tg = im[:,:,1] #Slicing to get G data\n",
    "\t\t\t\t\tb = im[:,:,2] #Slicing to get B data\n",
    "\n",
    "\t\t\t\t\tif index2 != 1:\n",
    "\t\t\t\t\t\tnew_array = np.array([[r] + [g] + [b]], np.uint8) #Creating array with shape (3, 70, 70)\n",
    "\t\t\t\t\t\tout = np.append(out, new_array, 0) #Adding new image to array shape of (x, 3, 70, 70) where x is image number\n",
    "\n",
    "\t\t\t\t\telif index2 == 1:\n",
    "\t\t\t\t\t\tout = np.array([[r] + [g] + [b]], np.uint8) #Creating array with shape (3, 70, 70)\n",
    "\n",
    "\t\t\t\t\tif index == 1 and index2 == 1:\n",
    "\t\t\t\t\t\tindex_array = np.array([[index]])\n",
    "\n",
    "\t\t\t\t\telse:\n",
    "\t\t\t\t\t\tnew_index_array = np.array([[index]], np.int8)\n",
    "\t\t\t\t\t\tindex_array = np.append(index_array, new_index_array, 0)\n",
    "\n",
    "\t\t\t\texcept Exception as e:\n",
    "\t\t\t\t\tprint(e)\n",
    "\t\t\t\t\tprint(\"Removing image\" + image)\n",
    "\t\t\t\t\t#os.remove(input_dir+\"/\"+folder+\"/\"+image)\n",
    "\n",
    "print(\"Number of folders/classes: \", index)"
   ]
  },
  {
   "cell_type": "code",
   "execution_count": null,
   "metadata": {},
   "outputs": [],
   "source": [
    "#saving the train image arrays and labels\n",
    "np.save('features_train.npy', out) #Saving train image arrays\n",
    "np.save('labels_train.npy', index_array) #Saving train labels"
   ]
  }
 ],
 "metadata": {
  "anaconda-cloud": {},
  "kernelspec": {
   "display_name": "Python [conda env:tensorflow-gpu-test]",
   "language": "python",
   "name": "conda-env-tensorflow-gpu-test-py"
  },
  "language_info": {
   "codemirror_mode": {
    "name": "ipython",
    "version": 3
   },
   "file_extension": ".py",
   "mimetype": "text/x-python",
   "name": "python",
   "nbconvert_exporter": "python",
   "pygments_lexer": "ipython3",
   "version": "3.5.5"
  }
 },
 "nbformat": 4,
 "nbformat_minor": 1
}
